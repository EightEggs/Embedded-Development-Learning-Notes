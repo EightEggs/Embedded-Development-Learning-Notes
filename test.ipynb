{
 "cells": [
  {
   "cell_type": "python",
   "id": "ea091f68-8519-4a1c-b730-38f1a09fc477",
   "metadata": {},
   "source": [
    "print("hello")"
   ]
  }
 ]
 }